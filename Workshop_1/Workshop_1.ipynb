{
  "cells": [
    {
      "cell_type": "markdown",
      "metadata": {
        "id": "4Pxi80igV4hV"
      },
      "source": [
        "# Recognizance Workshop 1\n"
      ]
    },
    {
      "cell_type": "code",
      "execution_count": null,
      "metadata": {
        "colab": {
          "base_uri": "https://localhost:8080/"
        },
        "id": "cytfONEDLE27",
        "outputId": "5ad5bba9-097f-4e63-8167-4b1c1c6678e3"
      },
      "outputs": [
        {
          "name": "stdout",
          "output_type": "stream",
          "text": [
            "Hello World !\n"
          ]
        }
      ],
      "source": [
        "print(\"Hello World !\")"
      ]
    },
    {
      "cell_type": "markdown",
      "metadata": {
        "id": "6v96zyQVV4hj"
      },
      "source": [
        "<hr>\n",
        "\n",
        "## Arithemetic Operators: "
      ]
    },
    {
      "cell_type": "code",
      "execution_count": null,
      "metadata": {
        "colab": {
          "base_uri": "https://localhost:8080/"
        },
        "collapsed": true,
        "id": "3ynIRmZxV4hm",
        "outputId": "68f5730a-587c-4827-a4d7-340742d9e47f"
      },
      "outputs": [
        {
          "name": "stdout",
          "output_type": "stream",
          "text": [
            "50\n"
          ]
        }
      ],
      "source": [
        "print(30 + 20) "
      ]
    },
    {
      "cell_type": "code",
      "execution_count": null,
      "metadata": {
        "colab": {
          "base_uri": "https://localhost:8080/"
        },
        "id": "5Glhl1IoV4ht",
        "outputId": "317e2987-d173-432e-b8a9-84c7241fd87b"
      },
      "outputs": [
        {
          "name": "stdout",
          "output_type": "stream",
          "text": [
            "-10\n"
          ]
        }
      ],
      "source": [
        "print(10 - 20)"
      ]
    },
    {
      "cell_type": "code",
      "execution_count": null,
      "metadata": {
        "colab": {
          "base_uri": "https://localhost:8080/"
        },
        "id": "RU3N_7spV4hv",
        "outputId": "d061a766-a826-4d1f-ec37-eee980a81dce"
      },
      "outputs": [
        {
          "name": "stdout",
          "output_type": "stream",
          "text": [
            "20\n"
          ]
        }
      ],
      "source": [
        "print(4 * 5) #Multiplication "
      ]
    },
    {
      "cell_type": "code",
      "execution_count": null,
      "metadata": {
        "colab": {
          "base_uri": "https://localhost:8080/"
        },
        "id": "caN9ylayV4hz",
        "outputId": "496f692e-622e-483f-96bd-496ada021edd"
      },
      "outputs": [
        {
          "name": "stdout",
          "output_type": "stream",
          "text": [
            "125\n"
          ]
        }
      ],
      "source": [
        "print(5 ** 3) #Exponentiation "
      ]
    },
    {
      "cell_type": "code",
      "execution_count": null,
      "metadata": {
        "colab": {
          "base_uri": "https://localhost:8080/"
        },
        "id": "sDvbWmxlV4h1",
        "outputId": "6f5a85e8-d59d-470a-fae6-bd41a73a2e78"
      },
      "outputs": [
        {
          "name": "stdout",
          "output_type": "stream",
          "text": [
            "4.5\n"
          ]
        }
      ],
      "source": [
        "print(9 / 2) "
      ]
    },
    {
      "cell_type": "code",
      "execution_count": null,
      "metadata": {
        "colab": {
          "base_uri": "https://localhost:8080/"
        },
        "id": "DbICUNXFV4h3",
        "outputId": "c76120ef-3dc5-405c-d494-6d8aa6df7096"
      },
      "outputs": [
        {
          "name": "stdout",
          "output_type": "stream",
          "text": [
            "4\n"
          ]
        }
      ],
      "source": [
        "print(9 // 2) #Floor division"
      ]
    },
    {
      "cell_type": "code",
      "execution_count": null,
      "metadata": {
        "colab": {
          "base_uri": "https://localhost:8080/"
        },
        "id": "8TcjWSjhV4h5",
        "outputId": "e6443156-7c9d-4ae3-b232-6dcdbfb469d8"
      },
      "outputs": [
        {
          "name": "stdout",
          "output_type": "stream",
          "text": [
            "1\n"
          ]
        }
      ],
      "source": [
        "print(9 % 2) #Modulo Operator"
      ]
    },
    {
      "cell_type": "code",
      "execution_count": null,
      "metadata": {
        "colab": {
          "base_uri": "https://localhost:8080/"
        },
        "id": "280VrrgafGB0",
        "outputId": "6c527882-722f-459d-e69c-1902e532e5e0"
      },
      "outputs": [
        {
          "name": "stdout",
          "output_type": "stream",
          "text": [
            "105\n"
          ]
        }
      ],
      "source": [
        "print((5 + 2) * (7 + 8)) #Use of brackets"
      ]
    },
    {
      "cell_type": "code",
      "execution_count": null,
      "metadata": {
        "colab": {
          "base_uri": "https://localhost:8080/"
        },
        "id": "oyLIlaexV4hs",
        "outputId": "6c34e218-2f04-4d63-856b-4f0fa4f29963"
      },
      "outputs": [
        {
          "name": "stdout",
          "output_type": "stream",
          "text": [
            "Recognizance Workshop-1\n"
          ]
        }
      ],
      "source": [
        "print(\"Recognizance\" + \" Workshop-1\")\n",
        "# Concatenation, will be covered in strings "
      ]
    },
    {
      "cell_type": "code",
      "execution_count": null,
      "metadata": {
        "colab": {
          "base_uri": "https://localhost:8080/"
        },
        "id": "n6lsJ6DiV4hx",
        "outputId": "2a59eb5b-1d3b-40cf-c97f-640596380575"
      },
      "outputs": [
        {
          "name": "stdout",
          "output_type": "stream",
          "text": [
            "hello hello hello \n"
          ]
        }
      ],
      "source": [
        "print(\"hello \"*3)\n",
        "# Repication, will be covered in strings "
      ]
    },
    {
      "cell_type": "markdown",
      "metadata": {
        "id": "DH64cG4zV4h6"
      },
      "source": [
        "<hr> \n",
        "\n",
        "## Variables"
      ]
    },
    {
      "cell_type": "markdown",
      "metadata": {
        "id": "jO67Ny0MnWWl"
      },
      "source": [
        "# Rules to name a variable:\n",
        "A variable name must start with a letter or the underscore character.\n",
        "<br>\n",
        "A variable name cannot start with a number.\n",
        "<br>\n",
        "A variable name can only contain alpha-numeric characters and underscores (A-z, 0-9, and _ )\n",
        "<br>\n",
        "Variable names are case-sensitive (age, Age and AGE are three different variables)"
      ]
    },
    {
      "cell_type": "code",
      "execution_count": null,
      "metadata": {
        "colab": {
          "base_uri": "https://localhost:8080/",
          "height": 130
        },
        "id": "P2GZh5cKV4h8",
        "outputId": "013f993e-ad08-4ef9-d48a-94108920abb5"
      },
      "outputs": [
        {
          "ename": "SyntaxError",
          "evalue": "ignored",
          "output_type": "error",
          "traceback": [
            "\u001b[0;36m  File \u001b[0;32m\"<ipython-input-10-a4f0fe2bc405>\"\u001b[0;36m, line \u001b[0;32m1\u001b[0m\n\u001b[0;31m    10b = 54.5\u001b[0m\n\u001b[0m      ^\u001b[0m\n\u001b[0;31mSyntaxError\u001b[0m\u001b[0;31m:\u001b[0m invalid syntax\n"
          ]
        }
      ],
      "source": [
        "10b = 54.5 \n",
        "#Variable name cannot start with a number"
      ]
    },
    {
      "cell_type": "code",
      "execution_count": null,
      "metadata": {
        "colab": {
          "base_uri": "https://localhost:8080/",
          "height": 130
        },
        "id": "QqyTYP90qDMC",
        "outputId": "b3716b80-516c-492b-d6fa-92d6be5b1ed5"
      },
      "outputs": [
        {
          "ename": "SyntaxError",
          "evalue": "ignored",
          "output_type": "error",
          "traceback": [
            "\u001b[0;36m  File \u001b[0;32m\"<ipython-input-11-5e4bb143f09a>\"\u001b[0;36m, line \u001b[0;32m1\u001b[0m\n\u001b[0;31m    ab$y = \"hello\"\u001b[0m\n\u001b[0m      ^\u001b[0m\n\u001b[0;31mSyntaxError\u001b[0m\u001b[0;31m:\u001b[0m invalid syntax\n"
          ]
        }
      ],
      "source": [
        "ab$y = \"hello\"\n",
        "#Special characters are not allowed in variable name"
      ]
    },
    {
      "cell_type": "code",
      "execution_count": null,
      "metadata": {
        "colab": {
          "base_uri": "https://localhost:8080/"
        },
        "id": "REVzNR_2qTiu",
        "outputId": "95f09033-1982-44b1-c000-e63cf0a117b8"
      },
      "outputs": [
        {
          "name": "stdout",
          "output_type": "stream",
          "text": [
            "8\n"
          ]
        }
      ],
      "source": [
        "num = 8\n",
        "print(num)"
      ]
    },
    {
      "cell_type": "code",
      "execution_count": null,
      "metadata": {
        "colab": {
          "base_uri": "https://localhost:8080/"
        },
        "id": "qx_8IRq8qVCT",
        "outputId": "a5b9b425-b729-47a1-ad0c-65bd74a1c068"
      },
      "outputs": [
        {
          "name": "stdout",
          "output_type": "stream",
          "text": [
            "1.2\n"
          ]
        }
      ],
      "source": [
        "Num = 1.2\n",
        "print(Num)\n",
        "#Num and num are two different variables as python is case sensitive"
      ]
    },
    {
      "cell_type": "code",
      "execution_count": null,
      "metadata": {
        "colab": {
          "base_uri": "https://localhost:8080/",
          "height": 130
        },
        "id": "0Ed10CidqX4z",
        "outputId": "ca78ea7a-4fb7-4765-93c0-b786fbb72e20"
      },
      "outputs": [
        {
          "ename": "SyntaxError",
          "evalue": "ignored",
          "output_type": "error",
          "traceback": [
            "\u001b[0;36m  File \u001b[0;32m\"<ipython-input-14-2de779a0a589>\"\u001b[0;36m, line \u001b[0;32m1\u001b[0m\n\u001b[0;31m    if = 10\u001b[0m\n\u001b[0m       ^\u001b[0m\n\u001b[0;31mSyntaxError\u001b[0m\u001b[0;31m:\u001b[0m invalid syntax\n"
          ]
        }
      ],
      "source": [
        "if = 10\n",
        "break = 5\n",
        "# Keywords(words with certain special meanings in python) cannot be used as a variable name"
      ]
    },
    {
      "cell_type": "code",
      "execution_count": null,
      "metadata": {
        "colab": {
          "base_uri": "https://localhost:8080/"
        },
        "id": "2L_b4lQOV4h9",
        "outputId": "62d10272-48bd-4618-bf2d-5b8377ad72ed"
      },
      "outputs": [
        {
          "name": "stdout",
          "output_type": "stream",
          "text": [
            "7\n",
            "10\n"
          ]
        }
      ],
      "source": [
        "# declaring variable\n",
        "num = 7\n",
        "\n",
        "# printing variable\n",
        "print(num)\n",
        "\n",
        "# changing data stored in the variable\n",
        "num = 10\n",
        "print(num)\n"
      ]
    },
    {
      "cell_type": "markdown",
      "metadata": {
        "id": "qoHT-LpQV4iB"
      },
      "source": [
        "---\n",
        "## Data Types"
      ]
    },
    {
      "cell_type": "markdown",
      "metadata": {
        "id": "wrWFRmjcodpd"
      },
      "source": [
        "Integer"
      ]
    },
    {
      "cell_type": "code",
      "execution_count": null,
      "metadata": {
        "colab": {
          "base_uri": "https://localhost:8080/"
        },
        "id": "J3gq06vWWtM5",
        "outputId": "8c565009-7fba-445d-fab5-f045a61b4660"
      },
      "outputs": [
        {
          "name": "stdout",
          "output_type": "stream",
          "text": [
            "<class 'int'>\n"
          ]
        }
      ],
      "source": [
        "int_num = 10\n",
        "print(type(int_num))\n",
        "#type function tells you the data type of a particular token"
      ]
    },
    {
      "cell_type": "code",
      "execution_count": null,
      "metadata": {
        "colab": {
          "base_uri": "https://localhost:8080/"
        },
        "id": "8rt7xks_oC2u",
        "outputId": "a4780bd8-9140-4555-c8b7-fe54228620e5"
      },
      "outputs": [
        {
          "name": "stdout",
          "output_type": "stream",
          "text": [
            "<class 'int'>\n"
          ]
        }
      ],
      "source": [
        "int_num = -3\n",
        "print(type(int_num))"
      ]
    },
    {
      "cell_type": "code",
      "execution_count": null,
      "metadata": {
        "colab": {
          "base_uri": "https://localhost:8080/"
        },
        "id": "ojMuU9QcoClz",
        "outputId": "d8736e17-6c4f-43d8-8437-37fa9528609a"
      },
      "outputs": [
        {
          "name": "stdout",
          "output_type": "stream",
          "text": [
            "<class 'int'>\n"
          ]
        }
      ],
      "source": [
        "int_num = 10000000000000000000000000000000000000000000000000000000000\n",
        "print(type(int_num))"
      ]
    },
    {
      "cell_type": "markdown",
      "metadata": {
        "id": "a2tS_LlLohUY"
      },
      "source": [
        "Float"
      ]
    },
    {
      "cell_type": "code",
      "execution_count": null,
      "metadata": {
        "colab": {
          "base_uri": "https://localhost:8080/"
        },
        "id": "r0z3iCocV4iD",
        "outputId": "c02212a7-3560-4a4e-a150-76af7e7fd7a1"
      },
      "outputs": [
        {
          "name": "stdout",
          "output_type": "stream",
          "text": [
            "11.6 <class 'float'>\n",
            "-4.5 <class 'float'>\n"
          ]
        }
      ],
      "source": [
        "float_num = 11.6\n",
        "print(float_num, type(float_num))\n",
        "float_num = -4.5\n",
        "print(float_num, type(float_num))"
      ]
    },
    {
      "cell_type": "code",
      "execution_count": null,
      "metadata": {
        "colab": {
          "base_uri": "https://localhost:8080/"
        },
        "id": "kx6NUKXwoL4z",
        "outputId": "c403cff9-cc5f-4bd0-d861-d6eed26807cf"
      },
      "outputs": [
        {
          "name": "stdout",
          "output_type": "stream",
          "text": [
            "55700000.0 <class 'float'>\n",
            "55700000.0 <class 'float'>\n"
          ]
        }
      ],
      "source": [
        "float_num = 5.57e7 # e or E implies exponent, this will be compiled as 5.57 x 10^7\n",
        "print(float_num, type(float_num))\n",
        "float_num = 5.57E7\n",
        "print(float_num, type(float_num))"
      ]
    },
    {
      "cell_type": "markdown",
      "metadata": {
        "id": "VRgcu2XyokQU"
      },
      "source": [
        "Boolean"
      ]
    },
    {
      "cell_type": "code",
      "execution_count": null,
      "metadata": {
        "colab": {
          "base_uri": "https://localhost:8080/"
        },
        "id": "TGZQDu6LV4iF",
        "outputId": "c3b494f9-69e6-49ee-bcf8-6c90faeae2d5"
      },
      "outputs": [
        {
          "name": "stdout",
          "output_type": "stream",
          "text": [
            "True <class 'bool'>\n",
            "False <class 'bool'>\n"
          ]
        }
      ],
      "source": [
        "boolean_num1 = True\n",
        "boolean_num2 = False\n",
        "print(boolean_num1, type(boolean_num1))\n",
        "print(boolean_num2, type(boolean_num2))\n"
      ]
    },
    {
      "cell_type": "markdown",
      "metadata": {
        "id": "ky0W53Hrooen"
      },
      "source": [
        "List"
      ]
    },
    {
      "cell_type": "code",
      "execution_count": null,
      "metadata": {
        "colab": {
          "base_uri": "https://localhost:8080/"
        },
        "id": "FJYnRvHNV4iG",
        "outputId": "5f6aa75c-b251-4493-b825-d831b4429a4b"
      },
      "outputs": [
        {
          "name": "stdout",
          "output_type": "stream",
          "text": [
            "10 <class 'int'>\n",
            "recognizance <class 'str'>\n",
            "False <class 'bool'>\n"
          ]
        }
      ],
      "source": [
        "list_1 = [10, 3.14, \"recognizance\", False]\n",
        "print(list_1[0], type(list_1[0])) # Use of indexing i.e. accesing elements using a number which starts from 0\n",
        "print(list_1[2], type(list_1[2]))\n",
        "print(list_1[3], type(list_1[3]))"
      ]
    },
    {
      "cell_type": "code",
      "execution_count": null,
      "metadata": {
        "colab": {
          "base_uri": "https://localhost:8080/"
        },
        "id": "N_yVlmyDV4iH",
        "outputId": "2f55868c-a369-49dc-df65-19b961b0640f"
      },
      "outputs": [
        {
          "name": "stdout",
          "output_type": "stream",
          "text": [
            "[20, 3.14, 'recognizance', False]\n",
            "[True, 3.14, 'recognizance', False]\n"
          ]
        }
      ],
      "source": [
        "list_1[0] = 20 # Changing the values\n",
        "print(list_1)\n",
        "list_1[0] = True # Changing the value along wih the datatype \n",
        "print(list_1)"
      ]
    },
    {
      "cell_type": "code",
      "execution_count": null,
      "metadata": {
        "id": "0tMwbTvoEHyJ"
      },
      "outputs": [],
      "source": [
        "#nested lists\n",
        "list_1 = [1, 2, [3, 4], 5] \n",
        "#A list is an element inside another list"
      ]
    },
    {
      "cell_type": "code",
      "execution_count": null,
      "metadata": {
        "colab": {
          "base_uri": "https://localhost:8080/"
        },
        "id": "cuHxinwSEPb7",
        "outputId": "8fceea73-a251-4b5d-cb58-b9dd52e31005"
      },
      "outputs": [
        {
          "data": {
            "text/plain": [
              "[3, 4]"
            ]
          },
          "execution_count": 24,
          "metadata": {},
          "output_type": "execute_result"
        }
      ],
      "source": [
        "list_1[2]"
      ]
    },
    {
      "cell_type": "code",
      "execution_count": null,
      "metadata": {
        "colab": {
          "base_uri": "https://localhost:8080/"
        },
        "id": "rVIqoUKtEU78",
        "outputId": "4b017242-1536-40a7-dfa9-b481f34b7c16"
      },
      "outputs": [
        {
          "data": {
            "text/plain": [
              "3"
            ]
          },
          "execution_count": 26,
          "metadata": {},
          "output_type": "execute_result"
        }
      ],
      "source": [
        "list_1[2][0]\n",
        "#list_1[2] is a list to access it's first elemet we use [0] here"
      ]
    },
    {
      "cell_type": "markdown",
      "metadata": {
        "id": "4vPfRfFkWoU1"
      },
      "source": [
        "Question:"
      ]
    },
    {
      "cell_type": "code",
      "execution_count": null,
      "metadata": {
        "colab": {
          "base_uri": "https://localhost:8080/"
        },
        "id": "ptMRZ4L5HiU6",
        "outputId": "f9df84e1-9605-4d17-f368-497469fbdf80"
      },
      "outputs": [
        {
          "data": {
            "text/plain": [
              "list"
            ]
          },
          "execution_count": 28,
          "metadata": {},
          "output_type": "execute_result"
        }
      ],
      "source": [
        "lst1 = [(2,3,5)] #A list of tuple\n",
        "type(lst1)"
      ]
    },
    {
      "cell_type": "markdown",
      "metadata": {
        "id": "q6lwBU21v174"
      },
      "source": [
        "String"
      ]
    },
    {
      "cell_type": "code",
      "execution_count": null,
      "metadata": {
        "colab": {
          "base_uri": "https://localhost:8080/"
        },
        "id": "ya74xCixv6ze",
        "outputId": "dcee2921-4c81-4b9a-ce18-5deb6b60f289"
      },
      "outputs": [
        {
          "name": "stdout",
          "output_type": "stream",
          "text": [
            "string\n"
          ]
        }
      ],
      "source": [
        "s = \"string\"\n",
        "print(s)"
      ]
    },
    {
      "cell_type": "code",
      "execution_count": null,
      "metadata": {
        "colab": {
          "base_uri": "https://localhost:8080/"
        },
        "id": "St3Rx0Hiyw9M",
        "outputId": "47c42b8b-1031-4c94-bc98-a1ce0940ff67"
      },
      "outputs": [
        {
          "name": "stdout",
          "output_type": "stream",
          "text": [
            "6\n"
          ]
        }
      ],
      "source": [
        "print(len(s)) #length function"
      ]
    },
    {
      "cell_type": "code",
      "execution_count": null,
      "metadata": {
        "colab": {
          "base_uri": "https://localhost:8080/"
        },
        "id": "f_uetXM-x5b5",
        "outputId": "f6004723-a625-4507-dd0b-1fb827b7551b"
      },
      "outputs": [
        {
          "name": "stdout",
          "output_type": "stream",
          "text": [
            "here is an example with single quotes\n"
          ]
        }
      ],
      "source": [
        "print('here is an example with single quotes')"
      ]
    },
    {
      "cell_type": "code",
      "execution_count": null,
      "metadata": {
        "colab": {
          "base_uri": "https://localhost:8080/"
        },
        "id": "5-GewYqJx9pX",
        "outputId": "ec6f4d3d-e92f-48da-f216-2f795995bcf0"
      },
      "outputs": [
        {
          "name": "stdout",
          "output_type": "stream",
          "text": [
            "with double quotes\n"
          ]
        }
      ],
      "source": [
        "print(\"with double quotes\") "
      ]
    },
    {
      "cell_type": "code",
      "execution_count": null,
      "metadata": {
        "colab": {
          "base_uri": "https://localhost:8080/",
          "height": 130
        },
        "id": "eehUynGZyNRo",
        "outputId": "cdc74efd-7ea5-4f00-8720-25c56a11e9ed"
      },
      "outputs": [
        {
          "ename": "SyntaxError",
          "evalue": "ignored",
          "output_type": "error",
          "traceback": [
            "\u001b[0;36m  File \u001b[0;32m\"<ipython-input-33-d0bd1b975db4>\"\u001b[0;36m, line \u001b[0;32m1\u001b[0m\n\u001b[0;31m    print('with lot's of other quotes ')\u001b[0m\n\u001b[0m                    ^\u001b[0m\n\u001b[0;31mSyntaxError\u001b[0m\u001b[0;31m:\u001b[0m invalid syntax\n"
          ]
        }
      ],
      "source": [
        "print('with lot's of other quotes ')\n",
        "#Quotations are to be used carefully, if the string contains single quotes use double quotes outside and vice-versa like the example demonstrated below"
      ]
    },
    {
      "cell_type": "code",
      "execution_count": null,
      "metadata": {
        "colab": {
          "base_uri": "https://localhost:8080/"
        },
        "id": "tpSTl7KOyBUX",
        "outputId": "a3d7ffc2-cd3a-4d96-84ba-cfb5a47d4f16"
      },
      "outputs": [
        {
          "name": "stdout",
          "output_type": "stream",
          "text": [
            " with lot's of other quotes\n"
          ]
        }
      ],
      "source": [
        "print(\" with lot's of other quotes\")"
      ]
    },
    {
      "cell_type": "code",
      "execution_count": null,
      "metadata": {
        "colab": {
          "base_uri": "https://localhost:8080/"
        },
        "id": "-2CXkZ49BTtS",
        "outputId": "72456350-6737-4745-a9f7-c4f6a61e47f0"
      },
      "outputs": [
        {
          "name": "stdout",
          "output_type": "stream",
          "text": [
            "tom\n",
            "harry\n",
            "alex\n"
          ]
        }
      ],
      "source": [
        "print(\"tom\\nharry\\nalex\") \n",
        "#\\n is the newline character which jumps to next line"
      ]
    },
    {
      "cell_type": "markdown",
      "metadata": {
        "id": "xjifNUySp7Mn"
      },
      "source": [
        "Tuple"
      ]
    },
    {
      "cell_type": "code",
      "execution_count": null,
      "metadata": {
        "colab": {
          "base_uri": "https://localhost:8080/"
        },
        "id": "Snr4ieu5V4iQ",
        "outputId": "4fc18be8-3fc0-4913-9d81-7fa6bd16bf12"
      },
      "outputs": [
        {
          "name": "stdout",
          "output_type": "stream",
          "text": [
            "(10, 3.14, 'recognizance', False) <class 'tuple'>\n"
          ]
        }
      ],
      "source": [
        "tuple_1 = (10, 3.14, \"recognizance\", False)\n",
        "print(tuple_1, type(tuple_1))\n",
        "#Very similar to lists but it is an immutable data type, i.e the elements inside a tuple cannot be changed as demonstrated below"
      ]
    },
    {
      "cell_type": "code",
      "execution_count": null,
      "metadata": {
        "colab": {
          "base_uri": "https://localhost:8080/",
          "height": 200
        },
        "id": "GGuX0vdZV4iR",
        "outputId": "7d6b14bf-5800-4066-8aae-9c2dac76062e"
      },
      "outputs": [
        {
          "name": "stdout",
          "output_type": "stream",
          "text": [
            "10\n"
          ]
        },
        {
          "ename": "TypeError",
          "evalue": "ignored",
          "output_type": "error",
          "traceback": [
            "\u001b[0;31m---------------------------------------------------------------------------\u001b[0m",
            "\u001b[0;31mTypeError\u001b[0m                                 Traceback (most recent call last)",
            "\u001b[0;32m<ipython-input-2-b7ff7ebf47f2>\u001b[0m in \u001b[0;36m<module>\u001b[0;34m\u001b[0m\n\u001b[1;32m      1\u001b[0m \u001b[0mprint\u001b[0m\u001b[0;34m(\u001b[0m\u001b[0mtuple_1\u001b[0m\u001b[0;34m[\u001b[0m\u001b[0;36m0\u001b[0m\u001b[0;34m]\u001b[0m\u001b[0;34m)\u001b[0m\u001b[0;34m\u001b[0m\u001b[0;34m\u001b[0m\u001b[0m\n\u001b[0;32m----> 2\u001b[0;31m \u001b[0mtuple_1\u001b[0m\u001b[0;34m[\u001b[0m\u001b[0;36m0\u001b[0m\u001b[0;34m]\u001b[0m \u001b[0;34m=\u001b[0m \u001b[0;36m789.54\u001b[0m\u001b[0;34m\u001b[0m\u001b[0;34m\u001b[0m\u001b[0m\n\u001b[0m",
            "\u001b[0;31mTypeError\u001b[0m: 'tuple' object does not support item assignment"
          ]
        }
      ],
      "source": [
        "print(tuple_1[0])\n",
        "tuple_1[0] = 789.54"
      ]
    },
    {
      "cell_type": "markdown",
      "metadata": {
        "id": "5_G5nfbDp9eN"
      },
      "source": [
        "Dictionary"
      ]
    },
    {
      "cell_type": "code",
      "execution_count": null,
      "metadata": {
        "id": "wHp8q1KgV4iS"
      },
      "outputs": [],
      "source": [
        "dict_1 = {'name':'prastuti', 'year':2022, 5:9.6, (10, 5):\"val\", \"harish\":(99,66)}\n",
        "#keys should be unique and immutable data types"
      ]
    },
    {
      "cell_type": "code",
      "execution_count": null,
      "metadata": {
        "colab": {
          "base_uri": "https://localhost:8080/"
        },
        "id": "kHW0tcbhV4iT",
        "outputId": "153c38d1-0633-4cc7-ad7f-0062a480cd18"
      },
      "outputs": [
        {
          "name": "stdout",
          "output_type": "stream",
          "text": [
            "{'name': 'prastuti', 'year': 2022, 5: 9.6, (10, 5): 'val', 'harish': (99, 66)} <class 'dict'>\n"
          ]
        }
      ],
      "source": [
        "print(dict_1, type(dict_1))"
      ]
    },
    {
      "cell_type": "code",
      "execution_count": null,
      "metadata": {
        "colab": {
          "base_uri": "https://localhost:8080/"
        },
        "id": "rRthFCbcV4iU",
        "outputId": "98f9f5ee-cd21-47a3-ba94-044d85593bc5"
      },
      "outputs": [
        {
          "name": "stdout",
          "output_type": "stream",
          "text": [
            "prastuti\n",
            "2022\n",
            "9.6\n",
            "val\n",
            "(99, 66)\n"
          ]
        }
      ],
      "source": [
        "print(dict_1[\"name\"]) #Accessing the values using keys\n",
        "print(dict_1[\"year\"])\n",
        "print(dict_1[5])\n",
        "print(dict_1[(10,5)])\n",
        "print(dict_1[\"harish\"])"
      ]
    },
    {
      "cell_type": "code",
      "execution_count": null,
      "metadata": {
        "colab": {
          "base_uri": "https://localhost:8080/"
        },
        "id": "zmZuuRoVV4iU",
        "outputId": "7f3f9595-6605-498b-9f8f-935983999716"
      },
      "outputs": [
        {
          "name": "stdout",
          "output_type": "stream",
          "text": [
            "dict_keys(['name', 'year', 5, (10, 5), True])\n"
          ]
        }
      ],
      "source": [
        "print(dict_1.keys()) #Returns a list of all keys"
      ]
    },
    {
      "cell_type": "code",
      "execution_count": null,
      "metadata": {
        "colab": {
          "base_uri": "https://localhost:8080/"
        },
        "id": "cEbZlyZ1V4iV",
        "outputId": "cd218560-4aaf-42c2-da0b-0a829f692b07"
      },
      "outputs": [
        {
          "name": "stdout",
          "output_type": "stream",
          "text": [
            "dict_values(['prastuti', 2022, 9.6, 'val', (99, 66)])\n"
          ]
        }
      ],
      "source": [
        "print(dict_1.values()) #Returns a list of all values"
      ]
    },
    {
      "cell_type": "code",
      "execution_count": null,
      "metadata": {
        "colab": {
          "base_uri": "https://localhost:8080/"
        },
        "id": "cZ0Nms-oV4iV",
        "outputId": "3bbe3b51-8400-4ca1-9271-c401c956ae1f"
      },
      "outputs": [
        {
          "name": "stdout",
          "output_type": "stream",
          "text": [
            "{'name': 'prastuti', 'year': 2022, 5: 9.6, (10, 5): 'val', True: (99, 66), 'ok': 'new'}\n"
          ]
        }
      ],
      "source": [
        "dict_1[\"ok\"] = \"new\" #To add a new element in dictionary\n",
        "print(dict_1)"
      ]
    },
    {
      "cell_type": "code",
      "execution_count": null,
      "metadata": {
        "colab": {
          "base_uri": "https://localhost:8080/"
        },
        "id": "Aiw7EwZ8V4iW",
        "outputId": "cb8e609b-621d-4ebf-cd04-c088f9522f9a"
      },
      "outputs": [
        {
          "name": "stdout",
          "output_type": "stream",
          "text": [
            "True\n",
            "False\n"
          ]
        }
      ],
      "source": [
        "print(\"name\" in dict_1) #To find if key exists in the dictionary \n",
        "print(\"dob\" in dict_1)"
      ]
    },
    {
      "cell_type": "markdown",
      "metadata": {
        "id": "_JW09Qq3_c9d"
      },
      "source": [
        "Question:"
      ]
    },
    {
      "cell_type": "code",
      "execution_count": null,
      "metadata": {
        "colab": {
          "base_uri": "https://localhost:8080/"
        },
        "id": "eVdqdLrsTIuh",
        "outputId": "d056d69e-39d9-475f-cb6d-3fbe81a8f715"
      },
      "outputs": [
        {
          "name": "stdout",
          "output_type": "stream",
          "text": [
            "{1: 2, '1': 2}\n"
          ]
        }
      ],
      "source": [
        "a ={}\n",
        "a[1] = 1\n",
        "a['1'] = 2\n",
        "a[1] = a[1] + 1\n",
        "print(a)\n",
        "#What will be the output ? Error or anything else. Specify\n",
        "#The digit 1 and the string 1 are two different and unique keys hence no error."
      ]
    },
    {
      "cell_type": "markdown",
      "metadata": {
        "id": "OJpOKMPS0TXd"
      },
      "source": [
        "---\n",
        "##Type Conversion"
      ]
    },
    {
      "cell_type": "code",
      "execution_count": null,
      "metadata": {
        "colab": {
          "base_uri": "https://localhost:8080/"
        },
        "id": "qZT-EMMO07MQ",
        "outputId": "d06f07bf-8b1e-49f2-c4f4-111f7d212091"
      },
      "outputs": [
        {
          "name": "stdout",
          "output_type": "stream",
          "text": [
            "10\n"
          ]
        }
      ],
      "source": [
        "num = 10.4\n",
        "print(int(num))"
      ]
    },
    {
      "cell_type": "code",
      "execution_count": null,
      "metadata": {
        "colab": {
          "base_uri": "https://localhost:8080/"
        },
        "id": "OX3FE-501ECv",
        "outputId": "dbdad6e9-39c6-4753-9443-4b8b8439a396"
      },
      "outputs": [
        {
          "name": "stdout",
          "output_type": "stream",
          "text": [
            "10.0\n"
          ]
        }
      ],
      "source": [
        "num = 10\n",
        "print(float(num))"
      ]
    },
    {
      "cell_type": "code",
      "execution_count": null,
      "metadata": {
        "id": "MGKCRsFm_fRg"
      },
      "outputs": [],
      "source": [
        "type('100.9') #This is a string as it is enclosed in quotations"
      ]
    },
    {
      "cell_type": "markdown",
      "metadata": {
        "id": "TGHn4m4W5DcW"
      },
      "source": [
        "---\n",
        "## Receiving Input"
      ]
    },
    {
      "cell_type": "code",
      "execution_count": null,
      "metadata": {
        "id": "Zuel3UVw5KpE"
      },
      "outputs": [],
      "source": [
        "num = input()"
      ]
    },
    {
      "cell_type": "code",
      "execution_count": null,
      "metadata": {
        "id": "tFLReQHu5tJJ"
      },
      "outputs": [],
      "source": [
        "num = int(input(\"Enter a number: \")) #Receiving integer input\n",
        "print(num, \" \", type(num))"
      ]
    },
    {
      "cell_type": "code",
      "execution_count": null,
      "metadata": {
        "id": "DR91TExf5uTM"
      },
      "outputs": [],
      "source": [
        "str1 = str(input(\"Enter a string: \")) #Receiving string input\n",
        "print(str1, \" \", type(str1))"
      ]
    },
    {
      "cell_type": "markdown",
      "metadata": {
        "id": "7M_dGhLaV4h_"
      },
      "source": [
        "---\n",
        "## Assignment Operator\n"
      ]
    },
    {
      "cell_type": "code",
      "execution_count": null,
      "metadata": {
        "colab": {
          "base_uri": "https://localhost:8080/"
        },
        "id": "_i54v2LjV4iA",
        "outputId": "2aaaa2c9-f105-4edd-a169-996ca5421475"
      },
      "outputs": [
        {
          "name": "stdout",
          "output_type": "stream",
          "text": [
            "10.2\n"
          ]
        }
      ],
      "source": [
        "num = 10.2\n",
        "print(num)"
      ]
    },
    {
      "cell_type": "markdown",
      "metadata": {
        "id": "q7ZUr1o1KsNf"
      },
      "source": [
        "Some short hand assignment operators"
      ]
    },
    {
      "cell_type": "code",
      "execution_count": null,
      "metadata": {
        "colab": {
          "base_uri": "https://localhost:8080/"
        },
        "id": "qS-WALbWqKZs",
        "outputId": "05e52158-a35e-40bc-9ec1-9d8a91b0fd83"
      },
      "outputs": [
        {
          "name": "stdout",
          "output_type": "stream",
          "text": [
            "15.2\n"
          ]
        }
      ],
      "source": [
        "num = 10.2\n",
        "num += 5 # num = num + 5\n",
        "print(num)"
      ]
    },
    {
      "cell_type": "code",
      "execution_count": null,
      "metadata": {
        "colab": {
          "base_uri": "https://localhost:8080/"
        },
        "id": "RgI-9KByqKAt",
        "outputId": "29afb5b4-9004-463c-e05b-f9b46ce63f94"
      },
      "outputs": [
        {
          "name": "stdout",
          "output_type": "stream",
          "text": [
            "6.8999999999999995\n"
          ]
        }
      ],
      "source": [
        "num = 10.2\n",
        "num -= 3.3 # num = num - 2\n",
        "print(num)"
      ]
    },
    {
      "cell_type": "code",
      "execution_count": null,
      "metadata": {
        "colab": {
          "base_uri": "https://localhost:8080/"
        },
        "id": "HeDKlBbPqJue",
        "outputId": "e8c0b43d-4469-4a7e-9a34-5855ea296aa2"
      },
      "outputs": [
        {
          "name": "stdout",
          "output_type": "stream",
          "text": [
            "20.4\n"
          ]
        }
      ],
      "source": [
        "num = 10.2\n",
        "num *= 2 # num = num * 2\n",
        "print(num)"
      ]
    },
    {
      "cell_type": "code",
      "execution_count": null,
      "metadata": {
        "colab": {
          "base_uri": "https://localhost:8080/"
        },
        "id": "ZHQagfqSqJdl",
        "outputId": "2132c512-f266-486c-cdec-9c9daa6821f7"
      },
      "outputs": [
        {
          "name": "stdout",
          "output_type": "stream",
          "text": [
            "5.1\n"
          ]
        }
      ],
      "source": [
        "num = 10.2\n",
        "num /= 2 # num = num / 2\n",
        "print(num)"
      ]
    },
    {
      "cell_type": "code",
      "execution_count": null,
      "metadata": {
        "colab": {
          "base_uri": "https://localhost:8080/"
        },
        "id": "wI8M1BA9qJNY",
        "outputId": "6cc76d3b-86a3-44e4-8d10-0ccbc4fa502b"
      },
      "outputs": [
        {
          "name": "stdout",
          "output_type": "stream",
          "text": [
            "3.1999999999999993\n",
            "1.0\n"
          ]
        }
      ],
      "source": [
        "num = 10.2\n",
        "num %= 7 # num = num % 7\n",
        "print(num)\n",
        "\n",
        "num //= 3 # num = num // 2\n",
        "print(num)"
      ]
    },
    {
      "cell_type": "code",
      "execution_count": null,
      "metadata": {
        "colab": {
          "base_uri": "https://localhost:8080/"
        },
        "id": "-bq9wIjAqI-V",
        "outputId": "ffb9da2e-6513-4975-a8c7-243a23d3cdfb"
      },
      "outputs": [
        {
          "name": "stdout",
          "output_type": "stream",
          "text": [
            "104.03999999999999\n"
          ]
        }
      ],
      "source": [
        "num = 10.2\n",
        "num **= 2 # num = num ** 2\n",
        "print(num) "
      ]
    },
    {
      "cell_type": "markdown",
      "metadata": {
        "id": "V8kuf2wrV4iX"
      },
      "source": [
        "---\n",
        "## Comparision Operators"
      ]
    },
    {
      "cell_type": "code",
      "execution_count": null,
      "metadata": {
        "colab": {
          "base_uri": "https://localhost:8080/"
        },
        "id": "4nU_zrB0V4iX",
        "outputId": "53c3cad7-609d-47d1-afbf-ec481599e8e7"
      },
      "outputs": [
        {
          "name": "stdout",
          "output_type": "stream",
          "text": [
            "False\n"
          ]
        }
      ],
      "source": [
        "num_1 = 5.2\n",
        "num_2 = 6\n",
        "print(num_1 == num_2) #Compares if num_1 is equal to num_2 and returns a boolean value"
      ]
    },
    {
      "cell_type": "code",
      "execution_count": null,
      "metadata": {
        "colab": {
          "base_uri": "https://localhost:8080/"
        },
        "id": "03NgmtLOtaXx",
        "outputId": "d928bec3-b9cb-4db5-9c7f-9386f5993107"
      },
      "outputs": [
        {
          "name": "stdout",
          "output_type": "stream",
          "text": [
            "True\n"
          ]
        }
      ],
      "source": [
        "print(num_1 < num_2) #Less than operator"
      ]
    },
    {
      "cell_type": "code",
      "execution_count": null,
      "metadata": {
        "id": "3ySg4sDCtaJm"
      },
      "outputs": [],
      "source": [
        "print(num_1 >= num_2) #Less than or equal to\n",
        "print(num_1 <= num_2) #Greater than or equal to"
      ]
    },
    {
      "cell_type": "code",
      "execution_count": null,
      "metadata": {
        "colab": {
          "base_uri": "https://localhost:8080/"
        },
        "id": "wYl3pUaRV4iY",
        "outputId": "728acf2d-5b45-4eff-b53f-b3cdc2955661"
      },
      "outputs": [
        {
          "name": "stdout",
          "output_type": "stream",
          "text": [
            "False\n",
            "True\n",
            "False\n",
            "True\n",
            "False\n",
            "True\n"
          ]
        }
      ],
      "source": [
        "num_1 = \"computer vision\"\n",
        "num_2 = \"deep learning\"\n",
        "print(num_1 == num_2)\n",
        "print(num_1 != num_2)\n",
        "print(num_1 > num_2)\n",
        "print(num_1 < num_2)\n",
        "print(num_1 >= num_2)\n",
        "print(num_1 <= num_2)"
      ]
    },
    {
      "cell_type": "markdown",
      "metadata": {
        "id": "f2-QsQkuV4iZ"
      },
      "source": [
        "---\n",
        "## Logical Operators"
      ]
    },
    {
      "cell_type": "code",
      "execution_count": null,
      "metadata": {
        "colab": {
          "base_uri": "https://localhost:8080/"
        },
        "id": "Z-8bBk_qV4ia",
        "outputId": "a84331bd-3d26-4c25-deb9-5e93e109f333"
      },
      "outputs": [
        {
          "name": "stdout",
          "output_type": "stream",
          "text": [
            "False\n"
          ]
        }
      ],
      "source": [
        "num_1 = 9\n",
        "num_2 = 7\n",
        "print(num_1 > 10 and num_2 < 10) #Returns True only if both the statements are true else returns False"
      ]
    },
    {
      "cell_type": "code",
      "execution_count": null,
      "metadata": {
        "colab": {
          "base_uri": "https://localhost:8080/"
        },
        "id": "hTqbXHB6ulqM",
        "outputId": "6348460e-05e6-4a8e-f16a-b30ba4125b8f"
      },
      "outputs": [
        {
          "name": "stdout",
          "output_type": "stream",
          "text": [
            "True\n"
          ]
        }
      ],
      "source": [
        "print(num_1 > 10 or num_2 < 10) #Returns true if even one of the two statements is True"
      ]
    },
    {
      "cell_type": "code",
      "execution_count": null,
      "metadata": {
        "colab": {
          "base_uri": "https://localhost:8080/"
        },
        "id": "I_a2L3JOulbX",
        "outputId": "e07b54a1-fe42-497a-f2b7-307a731689f9"
      },
      "outputs": [
        {
          "name": "stdout",
          "output_type": "stream",
          "text": [
            "False\n"
          ]
        }
      ],
      "source": [
        "print(not(num_1 > 10 or num_2 < 10)) #not negates the output. i.e. if the expression is returning True use of not returns False"
      ]
    },
    {
      "cell_type": "markdown",
      "metadata": {
        "id": "qO5psSBc1Va_"
      },
      "source": [
        "---\n",
        "##Operator Precedence"
      ]
    },
    {
      "cell_type": "markdown",
      "metadata": {
        "id": "E-j0WIL51a69"
      },
      "source": [
        "![Operator-Precedence-and-Associativity-in-Python.jpg](data:image/jpeg;base64,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)"
      ]
    },
    {
      "cell_type": "code",
      "execution_count": null,
      "metadata": {
        "colab": {
          "base_uri": "https://localhost:8080/"
        },
        "id": "b02jdL_G2k7k",
        "outputId": "e8ade646-b958-42dc-b05f-fb88d8fd91b7"
      },
      "outputs": [
        {
          "name": "stdout",
          "output_type": "stream",
          "text": [
            "20\n"
          ]
        }
      ],
      "source": [
        "print(10 + 5 * 2)"
      ]
    },
    {
      "cell_type": "code",
      "execution_count": null,
      "metadata": {
        "colab": {
          "base_uri": "https://localhost:8080/"
        },
        "id": "bmOurbPg2y5r",
        "outputId": "88329b08-fd87-4c00-fd2e-32d7208bf479"
      },
      "outputs": [
        {
          "name": "stdout",
          "output_type": "stream",
          "text": [
            "4.0\n"
          ]
        }
      ],
      "source": [
        "print(10 / 5 * 2)"
      ]
    },
    {
      "cell_type": "code",
      "execution_count": null,
      "metadata": {
        "colab": {
          "base_uri": "https://localhost:8080/"
        },
        "id": "MzEc2gsN2_jt",
        "outputId": "ac2a2e14-2d3d-46bc-9a6b-ac92c68ccf04"
      },
      "outputs": [
        {
          "name": "stdout",
          "output_type": "stream",
          "text": [
            "30\n"
          ]
        }
      ],
      "source": [
        "print((10 + 5) * 2)"
      ]
    },
    {
      "cell_type": "markdown",
      "metadata": {
        "id": "gGOrynyB-0xo"
      },
      "source": [
        "Question:"
      ]
    },
    {
      "cell_type": "code",
      "execution_count": null,
      "metadata": {
        "colab": {
          "base_uri": "https://localhost:8080/"
        },
        "id": "j_HN3cJY-3bg",
        "outputId": "673308b5-240e-49ab-f52c-82b92f66b779"
      },
      "outputs": [
        {
          "data": {
            "text/plain": [
              "71.0"
            ]
          },
          "execution_count": 11,
          "metadata": {},
          "output_type": "execute_result"
        }
      ],
      "source": [
        "(3 + 6) * 6 - 9 / 3 + 20\n",
        "#First the expression inside the parenthesisis compiled, then multiplication, then divison, then subtration and addition in the end."
      ]
    },
    {
      "cell_type": "markdown",
      "metadata": {
        "id": "KS1PJ5SxV4ib"
      },
      "source": [
        "---\n",
        "## Conditional Statements\n"
      ]
    },
    {
      "cell_type": "markdown",
      "metadata": {
        "id": "b0lXwXgX4Uyh"
      },
      "source": [
        "NOTE: Indentation is a very important part of python."
      ]
    },
    {
      "cell_type": "code",
      "execution_count": null,
      "metadata": {
        "id": "Wvot-LcsV4ib"
      },
      "outputs": [],
      "source": [
        "num = 10\n",
        "if num > 10.1:\n",
        "    print(\"num is greater than 20\")\n",
        "#Executes the statements under the if statement if the expression returns true."
      ]
    },
    {
      "cell_type": "code",
      "execution_count": null,
      "metadata": {
        "colab": {
          "base_uri": "https://localhost:8080/"
        },
        "id": "vlKvi71PV4ic",
        "outputId": "bff20a8f-3df3-4cd8-d394-c85f3621f8b7"
      },
      "outputs": [
        {
          "name": "stdout",
          "output_type": "stream",
          "text": [
            "num is greater than num_2\n"
          ]
        }
      ],
      "source": [
        "num_2 = 4.5\n",
        "if num > num_2:\n",
        "    print(\"num is greater than num_2\")\n",
        "else:\n",
        "    print(\"num is less than or equal to num_2\")\n",
        "#Executes the statements under the else statement if the expression returns False."
      ]
    },
    {
      "cell_type": "code",
      "execution_count": null,
      "metadata": {
        "colab": {
          "base_uri": "https://localhost:8080/"
        },
        "id": "2-PpNHN4V4id",
        "outputId": "e948b764-b16e-4f22-d5af-410e4782d617"
      },
      "outputs": [
        {
          "name": "stdout",
          "output_type": "stream",
          "text": [
            "num is greater than num_3\n"
          ]
        }
      ],
      "source": [
        "num_3 = 7\n",
        "if num_2 > num_3:\n",
        "    print(\"num_2 is greater than num_3\")\n",
        "elif num > num_3:\n",
        "    print(\"num is greater than num_3\")\n",
        "else:\n",
        "    print(\"num_3 is the greatest element among num, num_2 and num_3\")\n",
        "#Multiple elif statements can be added, the else part is executed if all the elif expressions and if expression is false"
      ]
    },
    {
      "cell_type": "code",
      "execution_count": null,
      "metadata": {
        "colab": {
          "base_uri": "https://localhost:8080/"
        },
        "id": "ui1CSr-yV4id",
        "outputId": "e8d6989b-f332-4600-9e69-a14e91354026"
      },
      "outputs": [
        {
          "name": "stdout",
          "output_type": "stream",
          "text": [
            "num is greatest among num, num_1, num_2\n"
          ]
        }
      ],
      "source": [
        "if num > num_2 and num > num_3:\n",
        "    print(\"num is greatest among num, num_1, num_2\")\n",
        "else:\n",
        "    print(\"num is not greatest among num, num_1, num_2\")"
      ]
    },
    {
      "cell_type": "markdown",
      "metadata": {
        "id": "GIjjilzLV4ie"
      },
      "source": [
        "---\n",
        "## Loops"
      ]
    },
    {
      "cell_type": "code",
      "execution_count": null,
      "metadata": {
        "colab": {
          "base_uri": "https://localhost:8080/"
        },
        "id": "pPbd1EsbV4if",
        "outputId": "7e70f6cc-ded6-4572-dc23-d3a437bbf89b"
      },
      "outputs": [
        {
          "name": "stdout",
          "output_type": "stream",
          "text": [
            "0\n",
            "1\n",
            "2\n",
            "3\n",
            "4\n",
            "5\n",
            "6\n",
            "7\n",
            "8\n",
            "9\n"
          ]
        }
      ],
      "source": [
        "for i in range(10): #Default start value for range() is 0 and the loop doesn't include the last value.\n",
        "    print(i)        #Default step value for range() is 1."
      ]
    },
    {
      "cell_type": "code",
      "execution_count": null,
      "metadata": {
        "id": "9-wLyj3ZV4if"
      },
      "outputs": [],
      "source": [
        "for i in range(5,10):\n",
        "    print(i)"
      ]
    },
    {
      "cell_type": "code",
      "execution_count": null,
      "metadata": {
        "id": "JcIwNakxV4ig"
      },
      "outputs": [],
      "source": [
        "for i in range(0, 10, 2): #The syntax of range() is range(start, stop, step)\n",
        "    print(i)"
      ]
    },
    {
      "cell_type": "code",
      "execution_count": null,
      "metadata": {
        "id": "uDPDJWwUV4ih"
      },
      "outputs": [],
      "source": [
        "for i in range(10, 2): #prints nothing as nothing lies in the given range\n",
        "    print(i)"
      ]
    },
    {
      "cell_type": "code",
      "execution_count": null,
      "metadata": {
        "colab": {
          "base_uri": "https://localhost:8080/"
        },
        "id": "lUiXE-Y4V4ih",
        "outputId": "ea4d0991-046f-4f2b-cf28-0395aaf4f91d"
      },
      "outputs": [
        {
          "name": "stdout",
          "output_type": "stream",
          "text": [
            "<class 'list'>\n",
            "10\n",
            "4.6\n",
            "hello\n"
          ]
        }
      ],
      "source": [
        "list_1 = [10, 4.6, \"hello\"]\n",
        "print(type(list_1))\n",
        "for i in list_1: #accessing each element of the list using i\n",
        "    print(i)"
      ]
    },
    {
      "cell_type": "code",
      "execution_count": null,
      "metadata": {
        "colab": {
          "base_uri": "https://localhost:8080/"
        },
        "id": "f4gUP28tV4ii",
        "outputId": "8a1c786f-575e-46ef-d617-5e27338eca8c"
      },
      "outputs": [
        {
          "name": "stdout",
          "output_type": "stream",
          "text": [
            "<class 'tuple'>\n",
            "10\n",
            "4.6\n",
            "hello\n"
          ]
        }
      ],
      "source": [
        "tuple_1 = (10, 4.6, \"hello\")\n",
        "print(type(tuple_1))\n",
        "for i in tuple_1:\n",
        "    print(i)"
      ]
    },
    {
      "cell_type": "code",
      "execution_count": null,
      "metadata": {
        "colab": {
          "base_uri": "https://localhost:8080/"
        },
        "id": "XfVfrSMQV4ii",
        "outputId": "65ba1c81-c7c2-4390-8dab-ea2056946f12"
      },
      "outputs": [
        {
          "name": "stdout",
          "output_type": "stream",
          "text": [
            "City Varanasi\n",
            "State UttarPradesh\n",
            "Country India\n",
            "YOI 1947\n"
          ]
        }
      ],
      "source": [
        "dict_1 = {\"City\":\"Varanasi\", \"State\":\"UttarPradesh\", \"Country\":\"India\", \"YOI\":1947}\n",
        "for i in dict_1:\n",
        "    print(i, dict_1[i])"
      ]
    },
    {
      "cell_type": "code",
      "execution_count": null,
      "metadata": {
        "colab": {
          "base_uri": "https://localhost:8080/"
        },
        "id": "ds93t6saV4ij",
        "outputId": "860a0e11-c1f7-45eb-f7b7-a718aa071ae6"
      },
      "outputs": [
        {
          "name": "stdout",
          "output_type": "stream",
          "text": [
            "L\n",
            "e\n",
            "a\n",
            "r\n",
            "n\n",
            "i\n",
            "n\n",
            "g\n",
            " \n",
            "P\n",
            "y\n",
            "t\n",
            "h\n",
            "o\n",
            "n\n"
          ]
        }
      ],
      "source": [
        "string_1 = \"Learning Python\"\n",
        "for i in string_1: #accessing each letter of the string using for loop\n",
        "    print(i)"
      ]
    },
    {
      "cell_type": "code",
      "execution_count": null,
      "metadata": {
        "colab": {
          "base_uri": "https://localhost:8080/"
        },
        "id": "Yjq-DV5KV4ik",
        "outputId": "61ceb6e9-9ae2-488b-8a1f-9432ae874a3b"
      },
      "outputs": [
        {
          "name": "stdout",
          "output_type": "stream",
          "text": [
            "Incrementing num_1 by one.\n",
            "Incrementing num_1 by one.\n",
            "Incrementing num_1 by one.\n",
            "Incrementing num_1 by one.\n",
            "Incrementing num_1 by one.\n",
            "Incrementing num_1 by one.\n",
            "Incrementing num_1 by one.\n",
            "Incrementing num_1 by one.\n",
            "Incrementing num_1 by one.\n",
            "Incrementing num_1 by one.\n",
            "Incrementing num_1 by one.\n",
            "Now num_1 is greater than or equal to num\n",
            "10 10\n"
          ]
        }
      ],
      "source": [
        "num = 10\n",
        "num_1 = -1\n",
        "while num_1 < num:      #Runs till the given statement becomes false\n",
        "    print(\"Incrementing num_1 by one.\")\n",
        "    num_1 += 1           #Updatin the value of num\n",
        "print(\"Now num_1 is greater than or equal to num\")\n",
        "print(num, num_1)"
      ]
    },
    {
      "cell_type": "code",
      "execution_count": null,
      "metadata": {
        "colab": {
          "base_uri": "https://localhost:8080/"
        },
        "id": "74DGN-cLV4ik",
        "outputId": "584975f8-9193-4a6b-be7a-616fdc0877e5"
      },
      "outputs": [
        {
          "name": "stdout",
          "output_type": "stream",
          "text": [
            "Found first occurence of word \"eagle\" at index 4\n"
          ]
        }
      ],
      "source": [
        "list_1 = [\"apple\", \"banana\", \"cat\", \"dog\", \"eagle\", \"fish\"]\n",
        "index = 0\n",
        "while list_1[index] != \"eagle\":\n",
        "    index += 1\n",
        "print(\"Found first occurence of word \\\"eagle\\\" at index {}\".format(index)) #Use of {} and format()\n",
        "#Format index is used to refer value "
      ]
    },
    {
      "cell_type": "code",
      "execution_count": null,
      "metadata": {
        "colab": {
          "base_uri": "https://localhost:8080/"
        },
        "id": "ufr4A0jLV4il",
        "outputId": "d1b77c39-0a27-4386-feed-0e15b5c8261f"
      },
      "outputs": [
        {
          "name": "stdout",
          "output_type": "stream",
          "text": [
            "Element not found\n"
          ]
        }
      ],
      "source": [
        "list_1 = [\"apple\", \"banana\", \"cat\", \"dog\", \"eagle\", \"fish\"]\n",
        "index = 0\n",
        "while index < len(list_1) and list_1[index] != \"eagl\":\n",
        "    index += 1\n",
        "if not index < len(list_1):\n",
        "    print(\"Element not found\") \n",
        "else:\n",
        "    print(\"Found first occurence of word \\\"eagle\\\" at index {}\".format(index))"
      ]
    },
    {
      "cell_type": "markdown",
      "metadata": {
        "id": "7upy-5JZ4tqy"
      },
      "source": [
        "## Jump Statements"
      ]
    },
    {
      "cell_type": "code",
      "execution_count": null,
      "metadata": {
        "colab": {
          "base_uri": "https://localhost:8080/"
        },
        "id": "edFs_8fqV4im",
        "outputId": "0bf1b646-832e-47ae-ac5e-5ce42ffe0d66"
      },
      "outputs": [
        {
          "name": "stdout",
          "output_type": "stream",
          "text": [
            "50\n"
          ]
        }
      ],
      "source": [
        "num = 1\n",
        "while True:\n",
        "    num += 1\n",
        "    if num == 50:\n",
        "        break      #breaks the loop and the control shifts to outside the loop\n",
        "print(num)"
      ]
    },
    {
      "cell_type": "code",
      "execution_count": null,
      "metadata": {
        "colab": {
          "base_uri": "https://localhost:8080/"
        },
        "id": "_BBiBiU6V4im",
        "outputId": "9adce2b3-3c3d-48b4-f753-9428add30d65"
      },
      "outputs": [
        {
          "name": "stdout",
          "output_type": "stream",
          "text": [
            "0\n",
            "1\n",
            "2\n",
            "3\n",
            "4\n",
            "6\n",
            "7\n",
            "8\n",
            "9\n"
          ]
        }
      ],
      "source": [
        "num = 1\n",
        "for i in range(10):\n",
        "    if i == 5:\n",
        "        continue    #Skips the execution of the code after it and starts execution from the next iteration\n",
        "    print(i)"
      ]
    },
    {
      "cell_type": "markdown",
      "metadata": {
        "id": "RUE2nd_FQ--v"
      },
      "source": [
        "Question:"
      ]
    },
    {
      "cell_type": "code",
      "execution_count": null,
      "metadata": {
        "colab": {
          "base_uri": "https://localhost:8080/"
        },
        "id": "YSJrUqopQ9Qw",
        "outputId": "250d95ad-c3c6-4383-e6bf-e1ef749939ce"
      },
      "outputs": [
        {
          "name": "stdout",
          "output_type": "stream",
          "text": [
            "40\n"
          ]
        }
      ],
      "source": [
        "sum = 0\n",
        "for i in range(12, 2, -2): #The step values can be negative as well\n",
        "  sum += i\n",
        "print(sum)"
      ]
    },
    {
      "cell_type": "markdown",
      "metadata": {
        "id": "895rZ9HhV4in"
      },
      "source": [
        "---\n",
        "## Functions"
      ]
    },
    {
      "cell_type": "code",
      "execution_count": null,
      "metadata": {
        "id": "AGcLi0LsV4io"
      },
      "outputs": [],
      "source": [
        "def add(a, b):       #Syntax to define a function\n",
        "    return(a+b)"
      ]
    },
    {
      "cell_type": "code",
      "execution_count": null,
      "metadata": {
        "colab": {
          "base_uri": "https://localhost:8080/"
        },
        "id": "LHF3TGX7V4io",
        "outputId": "06f263ae-7fbc-4647-dafd-e175e2494d99"
      },
      "outputs": [
        {
          "name": "stdout",
          "output_type": "stream",
          "text": [
            "15\n"
          ]
        }
      ],
      "source": [
        "print(add(10, 5))"
      ]
    },
    {
      "cell_type": "code",
      "execution_count": null,
      "metadata": {
        "id": "F59C4L_oV4ip"
      },
      "outputs": [],
      "source": [
        "def add_one(a, b=1):  #If second value is not entered by user, the default value given is used\n",
        "    return(a+b)"
      ]
    },
    {
      "cell_type": "code",
      "execution_count": null,
      "metadata": {
        "colab": {
          "base_uri": "https://localhost:8080/"
        },
        "id": "ZRv-XMTGV4iq",
        "outputId": "337ccf0f-8846-40a5-af53-a0922f2ca3d7"
      },
      "outputs": [
        {
          "data": {
            "text/plain": [
              "11"
            ]
          },
          "execution_count": 52,
          "metadata": {},
          "output_type": "execute_result"
        }
      ],
      "source": [
        "add_one(5, 6)"
      ]
    },
    {
      "cell_type": "code",
      "execution_count": null,
      "metadata": {
        "id": "8sQYPAWfV4iq"
      },
      "outputs": [],
      "source": [
        "def subtract(a, b):\n",
        "    \"\"\"\n",
        "    subtract This function returns the value of second argument \\\n",
        "        subtracted from first argument.\n",
        "\n",
        "    Args:\n",
        "    ---\n",
        "        a ([float, int, complex]): The first number\n",
        "        b ([float, int, complex]): The second number \n",
        "\n",
        "    Returns:\n",
        "    ---\n",
        "        [float, int, complex]: The value of obtained when b is subtracted from a\n",
        "    \"\"\"\n",
        "    return (a-b)\n"
      ]
    },
    {
      "cell_type": "code",
      "execution_count": null,
      "metadata": {
        "colab": {
          "base_uri": "https://localhost:8080/"
        },
        "id": "IVAj1JivV4ir",
        "outputId": "61d90fda-cac8-4966-fb65-4b1f1284c565"
      },
      "outputs": [
        {
          "name": "stdout",
          "output_type": "stream",
          "text": [
            "6\n"
          ]
        }
      ],
      "source": [
        "print(subtract(9, 3))"
      ]
    },
    {
      "cell_type": "code",
      "execution_count": null,
      "metadata": {
        "id": "LuKsSrBLV4is"
      },
      "outputs": [],
      "source": [
        "def sqaure_Of_First_Ten_Elements():\n",
        "    answer= []\n",
        "    for i in range(1, 11):\n",
        "        answer.append(i*i)    #Appends the specified element at the end of the list\n",
        "    return answer"
      ]
    },
    {
      "cell_type": "code",
      "execution_count": null,
      "metadata": {
        "colab": {
          "base_uri": "https://localhost:8080/"
        },
        "id": "u5NKbbKUV4is",
        "outputId": "43bf7196-1da2-4b32-d583-1c65e0512daf"
      },
      "outputs": [
        {
          "name": "stdout",
          "output_type": "stream",
          "text": [
            "[1, 4, 9, 16, 25, 36, 49, 64, 81, 100]\n"
          ]
        }
      ],
      "source": [
        "print(sqaure_Of_First_Ten_Elements())"
      ]
    },
    {
      "cell_type": "markdown",
      "metadata": {
        "id": "wcm7aPxUpsil"
      },
      "source": [
        "##LIST"
      ]
    },
    {
      "cell_type": "code",
      "execution_count": null,
      "metadata": {
        "colab": {
          "base_uri": "https://localhost:8080/"
        },
        "id": "meZ0Ui1BV4iI",
        "outputId": "0feb80e4-59f0-4a8b-df7d-1c6af308629e"
      },
      "outputs": [
        {
          "name": "stdout",
          "output_type": "stream",
          "text": [
            "['apple', 'banana', 'cat', 'dog', 'eagle', 'fish']\n",
            "['banana', 'cat']\n"
          ]
        }
      ],
      "source": [
        "list_1 = [\"apple\", \"banana\", \"cat\", \"dog\", \"eagle\", \"fish\"]\n",
        "print(list_1)\n",
        "# Slicing\n",
        "print(list_1[1:3]) #We can access a range of elements using slicing, the statement is executed for indexes from 1 to n-1, in this case 1 to 2."
      ]
    },
    {
      "cell_type": "code",
      "execution_count": null,
      "metadata": {
        "colab": {
          "base_uri": "https://localhost:8080/"
        },
        "id": "0UL25vbRB3Yj",
        "outputId": "ac137070-61e7-4e65-a32c-7fca71f3e5f4"
      },
      "outputs": [
        {
          "name": "stdout",
          "output_type": "stream",
          "text": [
            "['apple', 'banana']\n"
          ]
        }
      ],
      "source": [
        "print(list_1[:2]) #Default start value is 0."
      ]
    },
    {
      "cell_type": "code",
      "execution_count": null,
      "metadata": {
        "colab": {
          "base_uri": "https://localhost:8080/"
        },
        "id": "Lgs3MiyHB3JR",
        "outputId": "cc28a37b-a066-4d70-c4be-78e6b125f980"
      },
      "outputs": [
        {
          "name": "stdout",
          "output_type": "stream",
          "text": [
            "['banana', 'cat', 'dog', 'eagle', 'fish']\n"
          ]
        }
      ],
      "source": [
        "print(list_1[1:10])"
      ]
    },
    {
      "cell_type": "code",
      "execution_count": null,
      "metadata": {
        "colab": {
          "base_uri": "https://localhost:8080/"
        },
        "id": "6gYcEQVlB2L_",
        "outputId": "69b5ba96-3042-4d35-c6de-fdeda35b9c11"
      },
      "outputs": [
        {
          "name": "stdout",
          "output_type": "stream",
          "text": [
            "fish\n"
          ]
        }
      ],
      "source": [
        "print(list_1[-1]) #Negative indexes start from -1."
      ]
    },
    {
      "cell_type": "code",
      "execution_count": null,
      "metadata": {
        "colab": {
          "base_uri": "https://localhost:8080/"
        },
        "id": "xL0IrAFTB1og",
        "outputId": "2ec5fc17-3d39-45b9-9f87-846414fba0ad"
      },
      "outputs": [
        {
          "name": "stdout",
          "output_type": "stream",
          "text": [
            "eagle\n"
          ]
        }
      ],
      "source": [
        "print(list_1[-2])"
      ]
    },
    {
      "cell_type": "code",
      "execution_count": null,
      "metadata": {
        "colab": {
          "base_uri": "https://localhost:8080/"
        },
        "id": "7zFUH7bVB1WF",
        "outputId": "780f81f3-6656-4750-e41f-591c30ca4709"
      },
      "outputs": [
        {
          "name": "stdout",
          "output_type": "stream",
          "text": [
            "['apple', 'banana', 'cat', 'dog']\n"
          ]
        }
      ],
      "source": [
        "print(list_1[:-2])"
      ]
    },
    {
      "cell_type": "code",
      "execution_count": null,
      "metadata": {
        "colab": {
          "base_uri": "https://localhost:8080/"
        },
        "id": "eLusYmi2B050",
        "outputId": "a19325c0-2299-45e0-acab-14ecda52e8f2"
      },
      "outputs": [
        {
          "name": "stdout",
          "output_type": "stream",
          "text": [
            "['fish', 'eagle', 'dog', 'cat', 'banana', 'apple']\n"
          ]
        }
      ],
      "source": [
        "print(list_1[::-1]) #The default stop value is the length of the list, use of -1 reverses the output"
      ]
    },
    {
      "cell_type": "code",
      "execution_count": null,
      "metadata": {
        "colab": {
          "base_uri": "https://localhost:8080/"
        },
        "id": "u0cNvmK7V4iJ",
        "outputId": "b8d935e5-812d-4545-a81b-202deb82119f"
      },
      "outputs": [
        {
          "name": "stdout",
          "output_type": "stream",
          "text": [
            "['apple', 'banana', 'cat', 'dog', 'eagle', 'fish', 112.0]\n"
          ]
        }
      ],
      "source": [
        "list_1.append(112.0) # appending elements into list\n",
        "print(list_1)"
      ]
    },
    {
      "cell_type": "code",
      "execution_count": null,
      "metadata": {
        "id": "UNIzmP9h-vdt"
      },
      "outputs": [],
      "source": [
        "list_2 = [10, 20, 5.46, ['hello', 993]]"
      ]
    },
    {
      "cell_type": "code",
      "execution_count": null,
      "metadata": {
        "colab": {
          "base_uri": "https://localhost:8080/"
        },
        "id": "QvFV8QtYV4iK",
        "outputId": "29fed28e-1a0e-4e60-e301-7f709b518b0c"
      },
      "outputs": [
        {
          "name": "stdout",
          "output_type": "stream",
          "text": [
            "[10, 20, 5.46, ['hello', 993], [4, 9.7]]\n"
          ]
        }
      ],
      "source": [
        "list_2.append([4, 9.7]) # appending lists\n",
        "print(list_2)"
      ]
    },
    {
      "cell_type": "code",
      "execution_count": null,
      "metadata": {
        "colab": {
          "base_uri": "https://localhost:8080/"
        },
        "id": "VhRayxxXV4iL",
        "outputId": "7de296d1-a12a-4dd6-8197-350a7fd105e8"
      },
      "outputs": [
        {
          "name": "stdout",
          "output_type": "stream",
          "text": [
            "[10, 20, 5.46, ['hello', 993], [4, 9.7]]\n",
            "9.7\n",
            "[10, 20, 5.46, ['hello', 993], [4, 'new value']]\n"
          ]
        }
      ],
      "source": [
        "# accessing the elements in nested list\n",
        "print(list_2)\n",
        "print(list_2[-1][1])\n",
        "# changing elements in nested list \n",
        "list_2[-1][1] = \"new value\"\n",
        "print(list_2)"
      ]
    },
    {
      "cell_type": "code",
      "execution_count": null,
      "metadata": {
        "colab": {
          "base_uri": "https://localhost:8080/"
        },
        "id": "gGqHJ5BQV4iM",
        "outputId": "9012d294-5e29-4cfc-bc6e-42ef06919599"
      },
      "outputs": [
        {
          "name": "stdout",
          "output_type": "stream",
          "text": [
            "[10, 20, 5.46, ['hello', 993], [4, 'new value']]\n"
          ]
        }
      ],
      "source": [
        "list_3 = list_2 # copying by refrence\n",
        "print(list_3)"
      ]
    },
    {
      "cell_type": "code",
      "execution_count": null,
      "metadata": {
        "colab": {
          "base_uri": "https://localhost:8080/"
        },
        "id": "Mrii3c8WV4iN",
        "outputId": "e718556e-745c-45b7-b8ee-13d090234e9e"
      },
      "outputs": [
        {
          "name": "stdout",
          "output_type": "stream",
          "text": [
            "[788, 20, 5.46, ['hello', 993], [4, 'new value']]\n"
          ]
        }
      ],
      "source": [
        "list_2[0] = 788 #A change in list_2 also changes list_3\n",
        "print(list_3)"
      ]
    },
    {
      "cell_type": "code",
      "execution_count": null,
      "metadata": {
        "colab": {
          "base_uri": "https://localhost:8080/"
        },
        "id": "gzCAMirkV4iO",
        "outputId": "679da87a-ac1c-4589-9a08-575b5c59cc9a"
      },
      "outputs": [
        {
          "name": "stdout",
          "output_type": "stream",
          "text": [
            "[788, 20, 5.46, ['hello', 993], [4, 'new value']]\n"
          ]
        }
      ],
      "source": [
        "list_4 = list_2[:] # copying by value\n",
        "print(list_4)"
      ]
    },
    {
      "cell_type": "code",
      "execution_count": null,
      "metadata": {
        "colab": {
          "base_uri": "https://localhost:8080/"
        },
        "id": "nUbXmPfbV4iO",
        "outputId": "1cb70315-daab-4f4b-ff3a-a1061d449943"
      },
      "outputs": [
        {
          "name": "stdout",
          "output_type": "stream",
          "text": [
            "[788, 20, 5.46, ['hello', 993], [4, 'new value']]\n",
            "[788, 20, 5.46, ['hello', 993], [4, 'new value']]\n",
            "[788, '2nd element', 5.46, ['hello', 993], [4, 'new value']]\n"
          ]
        }
      ],
      "source": [
        "print(list_2)\n",
        "list_2[1] = \"2nd element\"\n",
        "print(list_4)    #Now the change doesn't reflect here\n",
        "print(list_2)"
      ]
    },
    {
      "cell_type": "code",
      "execution_count": null,
      "metadata": {
        "colab": {
          "base_uri": "https://localhost:8080/"
        },
        "id": "UhoIcgD-V4iP",
        "outputId": "4f2f3ab3-c1e1-4718-8ee3-2df9fc68140b"
      },
      "outputs": [
        {
          "name": "stdout",
          "output_type": "stream",
          "text": [
            "['apple', 'banana', 'cat', 'dog', 'eagle', 'fish', 112.0]\n",
            "[788, '2nd element', 5.46, ['hello', 993], [4, 'new value']]\n",
            "['apple', 'banana', 'cat', 'dog', 'eagle', 'fish', 112.0, 788, '2nd element', 5.46, ['hello', 993], [4, 'new value']]\n"
          ]
        }
      ],
      "source": [
        "print(list_1)\n",
        "print(list_2)\n",
        "list_5 = list_1 + list_2 # concatenating the list\n",
        "print(list_5)"
      ]
    },
    {
      "cell_type": "code",
      "execution_count": null,
      "metadata": {
        "colab": {
          "base_uri": "https://localhost:8080/"
        },
        "id": "BJMxtMGDV4iQ",
        "outputId": "1b86c132-b886-407e-df4a-5245a642270e"
      },
      "outputs": [
        {
          "name": "stdout",
          "output_type": "stream",
          "text": [
            "['apple', 'banana', 'cat', 'dog', 'eagle', 'fish', 112.0, 'apple', 'banana', 'cat', 'dog', 'eagle', 'fish', 112.0, 'apple', 'banana', 'cat', 'dog', 'eagle', 'fish', 112.0]\n"
          ]
        }
      ],
      "source": [
        "list_1 *= 3 # concatenating the list multiple times \n",
        "print(list_1)"
      ]
    },
    {
      "cell_type": "markdown",
      "metadata": {
        "id": "c9Vk0RMTMzBz"
      },
      "source": [
        "## Methods"
      ]
    },
    {
      "cell_type": "code",
      "execution_count": null,
      "metadata": {
        "collapsed": true,
        "id": "I3_5LYPcMzBz"
      },
      "outputs": [],
      "source": [
        "st = 'hello mY name is Sam'"
      ]
    },
    {
      "cell_type": "code",
      "execution_count": null,
      "metadata": {
        "colab": {
          "base_uri": "https://localhost:8080/",
          "height": 36
        },
        "id": "GRQ4Ns25MzBz",
        "outputId": "1e397574-b2ef-49b1-f1a3-3cd0455b9020"
      },
      "outputs": [
        {
          "data": {
            "application/vnd.google.colaboratory.intrinsic+json": {
              "type": "string"
            },
            "text/plain": [
              "'hello my name is sam'"
            ]
          },
          "execution_count": 16,
          "metadata": {},
          "output_type": "execute_result"
        }
      ],
      "source": [
        "st.lower()     #All the letters are changed to lowercase"
      ]
    },
    {
      "cell_type": "code",
      "execution_count": null,
      "metadata": {
        "colab": {
          "base_uri": "https://localhost:8080/",
          "height": 36
        },
        "id": "i57OKEQFMzB0",
        "outputId": "56c69ca7-9500-4aef-d694-39d48eabbb71"
      },
      "outputs": [
        {
          "data": {
            "application/vnd.google.colaboratory.intrinsic+json": {
              "type": "string"
            },
            "text/plain": [
              "'HELLO MY NAME IS SAM'"
            ]
          },
          "execution_count": 17,
          "metadata": {},
          "output_type": "execute_result"
        }
      ],
      "source": [
        "st.upper()     #All the letters are changed to uppercase"
      ]
    },
    {
      "cell_type": "code",
      "execution_count": null,
      "metadata": {
        "colab": {
          "base_uri": "https://localhost:8080/"
        },
        "id": "pevrNFZnMzB1",
        "outputId": "0fa0e6c4-6896-44e2-d645-0d3c191ad1f0"
      },
      "outputs": [
        {
          "name": "stdout",
          "output_type": "stream",
          "text": [
            "['hello', 'mY', 'name', 'is', 'Sam']\n"
          ]
        }
      ],
      "source": [
        "x = st.split()  #Splits the string into all its words seperated by spaces\n",
        "print(x)   "
      ]
    },
    {
      "cell_type": "code",
      "execution_count": null,
      "metadata": {
        "collapsed": true,
        "id": "d9Y-IHclMzB1"
      },
      "outputs": [],
      "source": [
        "tweet = 'Go Sports! #Sports'"
      ]
    },
    {
      "cell_type": "code",
      "execution_count": null,
      "metadata": {
        "colab": {
          "base_uri": "https://localhost:8080/"
        },
        "id": "X5a7IDZNMzB1",
        "outputId": "f8e43fc6-b9f3-4c11-c00b-c90c5d34794a"
      },
      "outputs": [
        {
          "data": {
            "text/plain": [
              "['Go Sports! ', 'Sports']"
            ]
          },
          "execution_count": 73,
          "metadata": {},
          "output_type": "execute_result"
        }
      ],
      "source": [
        "tweet.split('#')  #Splits the string into different elements of list whenever it encounters the character in paranthesis. The default character is space."
      ]
    },
    {
      "cell_type": "code",
      "execution_count": null,
      "metadata": {
        "colab": {
          "base_uri": "https://localhost:8080/",
          "height": 36
        },
        "id": "PY-OvnMmMzB2",
        "outputId": "e09fc296-3fcc-4272-ad49-e49f1240c8a7"
      },
      "outputs": [
        {
          "data": {
            "application/vnd.google.colaboratory.intrinsic+json": {
              "type": "string"
            },
            "text/plain": [
              "'Sports'"
            ]
          },
          "execution_count": 13,
          "metadata": {},
          "output_type": "execute_result"
        }
      ],
      "source": [
        "tweet.split('#')[1] #2nd element of the list is accessed"
      ]
    },
    {
      "cell_type": "code",
      "execution_count": null,
      "metadata": {
        "collapsed": true,
        "id": "rcbP3o6ZMzB3"
      },
      "outputs": [],
      "source": [
        "lst = [1, 2, 3]"
      ]
    },
    {
      "cell_type": "code",
      "execution_count": null,
      "metadata": {
        "colab": {
          "base_uri": "https://localhost:8080/"
        },
        "id": "Z0-VAz22MzB3",
        "outputId": "c0731b86-a539-482d-8d3b-28d9188752d8"
      },
      "outputs": [
        {
          "data": {
            "text/plain": [
              "3"
            ]
          },
          "execution_count": 76,
          "metadata": {},
          "output_type": "execute_result"
        }
      ],
      "source": [
        "lst.pop() #Deletes the last element and returns its value"
      ]
    },
    {
      "cell_type": "code",
      "execution_count": null,
      "metadata": {
        "id": "fZTFz_1NMzB4"
      },
      "outputs": [],
      "source": [
        "lst.append(5)"
      ]
    },
    {
      "cell_type": "code",
      "execution_count": null,
      "metadata": {
        "colab": {
          "base_uri": "https://localhost:8080/"
        },
        "id": "SSBBD5wmJEyn",
        "outputId": "7ef697da-0001-4be8-d356-f377c2a2b412"
      },
      "outputs": [
        {
          "data": {
            "text/plain": [
              "[1, 2, 5]"
            ]
          },
          "execution_count": 78,
          "metadata": {},
          "output_type": "execute_result"
        }
      ],
      "source": [
        "lst"
      ]
    },
    {
      "cell_type": "markdown",
      "metadata": {
        "id": "NrJLNwS8R0qR"
      },
      "source": [
        "## Libraries and Modules"
      ]
    },
    {
      "cell_type": "code",
      "execution_count": null,
      "metadata": {
        "id": "DUcR5Vx5R33D"
      },
      "outputs": [],
      "source": [
        "import math"
      ]
    },
    {
      "cell_type": "code",
      "execution_count": null,
      "metadata": {
        "colab": {
          "base_uri": "https://localhost:8080/"
        },
        "id": "bY5L64LLR61V",
        "outputId": "b77ef669-9bdf-440b-9a9f-0faef53802f4"
      },
      "outputs": [
        {
          "data": {
            "text/plain": [
              "8.0"
            ]
          },
          "execution_count": 80,
          "metadata": {},
          "output_type": "execute_result"
        }
      ],
      "source": [
        "math.sqrt(64) #Square root function"
      ]
    },
    {
      "cell_type": "code",
      "execution_count": null,
      "metadata": {
        "colab": {
          "base_uri": "https://localhost:8080/"
        },
        "id": "XAZ6IiCVSEsb",
        "outputId": "a10363a0-2714-4b56-d155-281133dbf827"
      },
      "outputs": [
        {
          "data": {
            "text/plain": [
              "10.0"
            ]
          },
          "execution_count": 81,
          "metadata": {},
          "output_type": "execute_result"
        }
      ],
      "source": [
        "import math as m #Now use math as m while calling the functions\n",
        "m.sqrt(100)"
      ]
    },
    {
      "cell_type": "code",
      "execution_count": null,
      "metadata": {
        "id": "gVMkyAN2SRa2"
      },
      "outputs": [],
      "source": [
        "from sklearn import linear_model"
      ]
    },
    {
      "cell_type": "markdown",
      "metadata": {
        "id": "-_4TgPWE_trW"
      },
      "source": [
        "---\n",
        "##QUESTION TIME !"
      ]
    },
    {
      "cell_type": "markdown",
      "metadata": {
        "id": "oQzvuJJcvXC7"
      },
      "source": [
        "Guess the output of the below questions..."
      ]
    },
    {
      "cell_type": "code",
      "execution_count": null,
      "metadata": {
        "colab": {
          "base_uri": "https://localhost:8080/"
        },
        "id": "Re4xKqgzA7sn",
        "outputId": "d8fca1ef-eb4a-412e-f0fe-d61c4b9d04e5"
      },
      "outputs": [
        {
          "name": "stdout",
          "output_type": "stream",
          "text": [
            "(22, 44, 66)\n"
          ]
        }
      ],
      "source": [
        "tuple1 = (11, 22, 33, 44, 55, 66)\n",
        "list1 = list(tuple1)\n",
        "new_list = []\n",
        "for i in list1:\n",
        "  if i%2 == 0:            \n",
        "    new_list.append(i)   #All the elements which are divisible by 2 are appended in the new list\n",
        "new_tuple = tuple(new_list)  #The list is converted into a tuple\n",
        "print(new_tuple)"
      ]
    },
    {
      "cell_type": "code",
      "execution_count": null,
      "metadata": {
        "colab": {
          "base_uri": "https://localhost:8080/"
        },
        "id": "JYl5kcsqvfLK",
        "outputId": "e7df6c18-fd33-4e7b-9feb-87c70ecd8d90"
      },
      "outputs": [
        {
          "name": "stdout",
          "output_type": "stream",
          "text": [
            "[3, 4]\n",
            "[[[1, 2], [3, 4], 5], 6, 7]\n"
          ]
        }
      ],
      "source": [
        "a = [[[1, 2], [3, 4], 5], 6, 7]\n",
        "print(a[0][1])  #a[0] is the list [[1, 2], [3, 4], 5] and a[0][1] is the 2nd element i.e. the list [3, 4]  \n",
        "print(a[0: ])  #all the elements starting from the 0th index are printed"
      ]
    },
    {
      "cell_type": "code",
      "execution_count": null,
      "metadata": {
        "id": "BbR_n4yAviwK"
      },
      "outputs": [],
      "source": [
        "c=0\n",
        "if ((2/2)+2*3 >= 2/2+(2*3)): #Use operator precedence to evaluate the expression \n",
        "  c += 1\n",
        "else:\n",
        "  c -= 1\n",
        "print(bool(c)) \n",
        "#Note : In both the cases the value of bool(c) will remain to be true"
      ]
    },
    {
      "cell_type": "code",
      "execution_count": null,
      "metadata": {
        "id": "xVGOGvLJv3uY"
      },
      "outputs": [],
      "source": [
        "l= [1, 2, 3, 4, 5, 6, 7, 8, 9]\n",
        "for i in l:\n",
        "  if i%3 == 0:                     #If the element is divisible by 3\n",
        "    print(i/3 , \" \",type(i/3))     #The datatype of i/3 is float now due to the division operator\n",
        "  else:\n",
        "    print(i, \" \", type(i))         # i is printed with datatype integer"
      ]
    },
    {
      "cell_type": "code",
      "execution_count": null,
      "metadata": {
        "colab": {
          "base_uri": "https://localhost:8080/"
        },
        "id": "mh_kmClYvmAC",
        "outputId": "72d38c52-10fb-4847-f626-8fcec4ed2bc3"
      },
      "outputs": [
        {
          "name": "stdout",
          "output_type": "stream",
          "text": [
            "1 0 7 0 13 0 19 "
          ]
        }
      ],
      "source": [
        "func_1 = lambda x: print(x, end=\" \") if (x&1) else print(0, end=\" \")  # & here is the bitwise and operartor which performs bitwise and on the two numbers \n",
        "nums = range(1, 21, 3)                                                # bitwise and is True only when both the numbers are odd, else it returns 0. \n",
        "for i in nums: func_1(i)                                              # Acoording to the given snippet, if the result is 0 , 0 is printed else the number is printed. "
      ]
    },
    {
      "cell_type": "code",
      "execution_count": null,
      "metadata": {
        "id": "ua06WXRJvuFX"
      },
      "outputs": [],
      "source": [
        "a = \" ok \"\n",
        "print(a.strip())  #strip() deletes the leading and the trailing spaces"
      ]
    },
    {
      "cell_type": "code",
      "execution_count": null,
      "metadata": {
        "colab": {
          "base_uri": "https://localhost:8080/"
        },
        "id": "LOs-sbNpvpan",
        "outputId": "5c08d5c1-0cfd-4c4f-c9dc-b2e591c0665f"
      },
      "outputs": [
        {
          "name": "stdout",
          "output_type": "stream",
          "text": [
            "['Name', 'Branch', 'Roll Number', 'CPI', 'SPI']\n"
          ]
        }
      ],
      "source": [
        "data = \"Name, Branch, Roll Number, CPI, SPI\"\n",
        "filtered_data = []\n",
        "for i in data.split(\",\"): filtered_data.append(i.strip())    #The string splits into different elements of a list whenever it encounters \",\" . The element is then appended in\n",
        "print(filtered_data)                                         #filtered_data after strip() , i.e. the spaces are deleted from both the left and the right side."
      ]
    },
    {
      "cell_type": "markdown",
      "metadata": {
        "id": "-BgT5Vt3v-XK"
      },
      "source": [
        "#Kit Kat Questions :)"
      ]
    },
    {
      "cell_type": "markdown",
      "metadata": {
        "id": "2CPYbDYuwEuH"
      },
      "source": [
        "Q1. Print the keys and values of the below dictonary, where the keys are present in the given list."
      ]
    },
    {
      "cell_type": "code",
      "execution_count": null,
      "metadata": {
        "colab": {
          "base_uri": "https://localhost:8080/"
        },
        "id": "W1j2CMAjwEQk",
        "outputId": "0e6e6971-b740-4601-9a22-55590e09843f"
      },
      "outputs": [
        {
          "name": "stdout",
          "output_type": "stream",
          "text": [
            "EE222   B\n",
            "EE272   C\n"
          ]
        }
      ],
      "source": [
        "marksheet = {\n",
        "    \"MA202\": \"A*\",\n",
        "    \"EE231\": \"A-\",\n",
        "    \"EE211\": \"A\",\n",
        "    \"EE222\": \"B\",\n",
        "    \"EE241\": \"A\",\n",
        "    \"EE272\": \"C\",\n",
        "}\n",
        "\n",
        "needed_keys = [\"EE222\", \"EE272\"]\n",
        "\n",
        "# Code Below\n",
        "for i in marksheet:\n",
        "  if i in needed_keys:\n",
        "    print( i , \" \" , marksheet[i])\n"
      ]
    },
    {
      "cell_type": "markdown",
      "metadata": {
        "id": "7tLYOhoUwXtF"
      },
      "source": [
        "Q2. Print the given list in reverse order. Without using a loop."
      ]
    },
    {
      "cell_type": "code",
      "execution_count": null,
      "metadata": {
        "colab": {
          "base_uri": "https://localhost:8080/"
        },
        "id": "ikznx3itwXTB",
        "outputId": "dadcefba-8a67-4183-8752-1aa89d5d34a0"
      },
      "outputs": [
        {
          "name": "stdout",
          "output_type": "stream",
          "text": [
            "['Prayash', 'Bhawika', 'Yuktam', 'Saransh']\n"
          ]
        }
      ],
      "source": [
        "student_names = [\"Saransh\", \"Yuktam\", \"Bhawika\", \"Prayash\"]\n",
        "\n",
        "# Code Below\n",
        "print(student_names[::-1]) # [start:end:step]"
      ]
    },
    {
      "cell_type": "markdown",
      "metadata": {
        "id": "Ge3pI_VxwfPJ"
      },
      "source": [
        "Q3. Delete the enteries where the value is less than 80."
      ]
    },
    {
      "cell_type": "code",
      "execution_count": null,
      "metadata": {
        "colab": {
          "base_uri": "https://localhost:8080/"
        },
        "id": "-SJeiFMJwVGM",
        "outputId": "cfd6c669-3d48-4757-c1d7-792c692f28e6"
      },
      "outputs": [
        {
          "name": "stdout",
          "output_type": "stream",
          "text": [
            "{'Vikram': 89, 'Harsh': 85, 'Vardan': 95, 'Ayush': 100}\n"
          ]
        }
      ],
      "source": [
        "marks = {\n",
        "    \"Utkarsh\": 67,\n",
        "    \"Vikram\": 89,\n",
        "    \"Harsh\": 85,\n",
        "    \"Pratyush\": 54,\n",
        "    \"Vardan\": 95,\n",
        "    \"Ayush\": 100,\n",
        "    \"Hemank\": 43,\n",
        "}\n",
        "\n",
        "# Code Below\n",
        "keys = list(marks.keys())\n",
        "for i in keys:\n",
        "  if marks[i] < 80 :\n",
        "    marks.pop(i)\n",
        "    \n",
        "print(marks)"
      ]
    }
  ],
  "metadata": {
    "colab": {
      "provenance": []
    },
    "kernelspec": {
      "display_name": "Python 3",
      "language": "python",
      "name": "python3"
    },
    "language_info": {
      "codemirror_mode": {
        "name": "ipython",
        "version": 3
      },
      "file_extension": ".py",
      "mimetype": "text/x-python",
      "name": "python",
      "nbconvert_exporter": "python",
      "pygments_lexer": "ipython3",
      "version": "3.10.10"
    },
    "vscode": {
      "interpreter": {
        "hash": "97cc609b13305c559618ec78a438abc56230b9381f827f22d070313b9a1f3777"
      }
    }
  },
  "nbformat": 4,
  "nbformat_minor": 0
}
